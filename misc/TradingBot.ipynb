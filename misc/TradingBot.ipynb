{
 "cells": [
  {
   "cell_type": "code",
   "execution_count": 28,
   "id": "fd7fd3c3",
   "metadata": {},
   "outputs": [],
   "source": [
    "import sqlalchemy\n",
    "import pandas as pd\n",
    "from datetime import datetime, timedelta\n",
    "import numpy as np"
   ]
  },
  {
   "cell_type": "code",
   "execution_count": 29,
   "id": "7a258e9b",
   "metadata": {},
   "outputs": [],
   "source": [
    "engstr = \"\"\n",
    "engine = sqlalchemy.create_engine(engstr)"
   ]
  },
  {
   "cell_type": "code",
   "execution_count": 30,
   "id": "57e9db69",
   "metadata": {},
   "outputs": [],
   "source": [
    "def get_dataframe_from_sql(eng, sql_stmt):\n",
    "    df = pd.read_sql(sql_stmt, eng)\n",
    "    return df.copy()"
   ]
  },
  {
   "cell_type": "code",
   "execution_count": 31,
   "id": "95d7c2cf",
   "metadata": {},
   "outputs": [
    {
     "data": {
      "text/html": [
       "<div>\n",
       "<style scoped>\n",
       "    .dataframe tbody tr th:only-of-type {\n",
       "        vertical-align: middle;\n",
       "    }\n",
       "\n",
       "    .dataframe tbody tr th {\n",
       "        vertical-align: top;\n",
       "    }\n",
       "\n",
       "    .dataframe thead th {\n",
       "        text-align: right;\n",
       "    }\n",
       "</style>\n",
       "<table border=\"1\" class=\"dataframe\">\n",
       "  <thead>\n",
       "    <tr style=\"text-align: right;\">\n",
       "      <th></th>\n",
       "      <th>time_end</th>\n",
       "      <th>open</th>\n",
       "      <th>high</th>\n",
       "      <th>low</th>\n",
       "      <th>close</th>\n",
       "      <th>volume</th>\n",
       "    </tr>\n",
       "  </thead>\n",
       "  <tbody>\n",
       "    <tr>\n",
       "      <th>0</th>\n",
       "      <td>2022-01-02 12:05:00</td>\n",
       "      <td>3296.41</td>\n",
       "      <td>3301.51</td>\n",
       "      <td>3296.41</td>\n",
       "      <td>3301.09</td>\n",
       "      <td>8.615494</td>\n",
       "    </tr>\n",
       "    <tr>\n",
       "      <th>1</th>\n",
       "      <td>2022-01-02 12:10:00</td>\n",
       "      <td>3300.35</td>\n",
       "      <td>3300.35</td>\n",
       "      <td>3299.53</td>\n",
       "      <td>3299.54</td>\n",
       "      <td>3.631679</td>\n",
       "    </tr>\n",
       "    <tr>\n",
       "      <th>2</th>\n",
       "      <td>2022-01-02 12:15:00</td>\n",
       "      <td>3299.54</td>\n",
       "      <td>3299.55</td>\n",
       "      <td>3298.68</td>\n",
       "      <td>3298.68</td>\n",
       "      <td>4.276312</td>\n",
       "    </tr>\n",
       "    <tr>\n",
       "      <th>3</th>\n",
       "      <td>2022-01-02 12:20:00</td>\n",
       "      <td>3298.68</td>\n",
       "      <td>3302.52</td>\n",
       "      <td>3298.68</td>\n",
       "      <td>3301.20</td>\n",
       "      <td>8.266984</td>\n",
       "    </tr>\n",
       "    <tr>\n",
       "      <th>4</th>\n",
       "      <td>2022-01-02 12:25:00</td>\n",
       "      <td>3301.22</td>\n",
       "      <td>3302.41</td>\n",
       "      <td>3301.21</td>\n",
       "      <td>3301.85</td>\n",
       "      <td>5.305136</td>\n",
       "    </tr>\n",
       "    <tr>\n",
       "      <th>...</th>\n",
       "      <td>...</td>\n",
       "      <td>...</td>\n",
       "      <td>...</td>\n",
       "      <td>...</td>\n",
       "      <td>...</td>\n",
       "      <td>...</td>\n",
       "    </tr>\n",
       "    <tr>\n",
       "      <th>188</th>\n",
       "      <td>2022-01-02 22:50:00</td>\n",
       "      <td>3365.03</td>\n",
       "      <td>3365.59</td>\n",
       "      <td>3359.73</td>\n",
       "      <td>3359.90</td>\n",
       "      <td>5.799117</td>\n",
       "    </tr>\n",
       "    <tr>\n",
       "      <th>189</th>\n",
       "      <td>2022-01-02 22:50:00</td>\n",
       "      <td>3365.03</td>\n",
       "      <td>3365.59</td>\n",
       "      <td>3359.71</td>\n",
       "      <td>3359.72</td>\n",
       "      <td>5.883703</td>\n",
       "    </tr>\n",
       "    <tr>\n",
       "      <th>190</th>\n",
       "      <td>2022-01-02 22:50:00</td>\n",
       "      <td>3365.03</td>\n",
       "      <td>3365.59</td>\n",
       "      <td>3359.68</td>\n",
       "      <td>3359.68</td>\n",
       "      <td>6.035203</td>\n",
       "    </tr>\n",
       "    <tr>\n",
       "      <th>191</th>\n",
       "      <td>2022-01-02 22:50:00</td>\n",
       "      <td>3365.03</td>\n",
       "      <td>3365.59</td>\n",
       "      <td>3359.46</td>\n",
       "      <td>3359.46</td>\n",
       "      <td>6.083361</td>\n",
       "    </tr>\n",
       "    <tr>\n",
       "      <th>192</th>\n",
       "      <td>2022-01-02 22:50:00</td>\n",
       "      <td>3365.03</td>\n",
       "      <td>3365.59</td>\n",
       "      <td>3359.46</td>\n",
       "      <td>3359.76</td>\n",
       "      <td>6.241266</td>\n",
       "    </tr>\n",
       "  </tbody>\n",
       "</table>\n",
       "<p>193 rows × 6 columns</p>\n",
       "</div>"
      ],
      "text/plain": [
       "               time_end     open     high      low    close    volume\n",
       "0   2022-01-02 12:05:00  3296.41  3301.51  3296.41  3301.09  8.615494\n",
       "1   2022-01-02 12:10:00  3300.35  3300.35  3299.53  3299.54  3.631679\n",
       "2   2022-01-02 12:15:00  3299.54  3299.55  3298.68  3298.68  4.276312\n",
       "3   2022-01-02 12:20:00  3298.68  3302.52  3298.68  3301.20  8.266984\n",
       "4   2022-01-02 12:25:00  3301.22  3302.41  3301.21  3301.85  5.305136\n",
       "..                  ...      ...      ...      ...      ...       ...\n",
       "188 2022-01-02 22:50:00  3365.03  3365.59  3359.73  3359.90  5.799117\n",
       "189 2022-01-02 22:50:00  3365.03  3365.59  3359.71  3359.72  5.883703\n",
       "190 2022-01-02 22:50:00  3365.03  3365.59  3359.68  3359.68  6.035203\n",
       "191 2022-01-02 22:50:00  3365.03  3365.59  3359.46  3359.46  6.083361\n",
       "192 2022-01-02 22:50:00  3365.03  3365.59  3359.46  3359.76  6.241266\n",
       "\n",
       "[193 rows x 6 columns]"
      ]
     },
     "execution_count": 31,
     "metadata": {},
     "output_type": "execute_result"
    }
   ],
   "source": [
    "df = get_dataframe_from_sql(engine, 'SELECT * FROM etheur_ohlc_5;')\n",
    "df"
   ]
  },
  {
   "cell_type": "code",
   "execution_count": 32,
   "id": "425e997f",
   "metadata": {},
   "outputs": [
    {
     "data": {
      "text/html": [
       "<div>\n",
       "<style scoped>\n",
       "    .dataframe tbody tr th:only-of-type {\n",
       "        vertical-align: middle;\n",
       "    }\n",
       "\n",
       "    .dataframe tbody tr th {\n",
       "        vertical-align: top;\n",
       "    }\n",
       "\n",
       "    .dataframe thead th {\n",
       "        text-align: right;\n",
       "    }\n",
       "</style>\n",
       "<table border=\"1\" class=\"dataframe\">\n",
       "  <thead>\n",
       "    <tr style=\"text-align: right;\">\n",
       "      <th></th>\n",
       "      <th>time_end</th>\n",
       "      <th>open</th>\n",
       "      <th>high</th>\n",
       "      <th>low</th>\n",
       "      <th>close</th>\n",
       "      <th>volume</th>\n",
       "    </tr>\n",
       "  </thead>\n",
       "  <tbody>\n",
       "    <tr>\n",
       "      <th>192</th>\n",
       "      <td>2022-01-02 22:50:00</td>\n",
       "      <td>3365.03</td>\n",
       "      <td>3365.59</td>\n",
       "      <td>3359.46</td>\n",
       "      <td>3359.76</td>\n",
       "      <td>6.241266</td>\n",
       "    </tr>\n",
       "  </tbody>\n",
       "</table>\n",
       "</div>"
      ],
      "text/plain": [
       "               time_end     open     high      low    close    volume\n",
       "192 2022-01-02 22:50:00  3365.03  3365.59  3359.46  3359.76  6.241266"
      ]
     },
     "execution_count": 32,
     "metadata": {},
     "output_type": "execute_result"
    }
   ],
   "source": [
    "lastEntry = df.iloc[-1:]\n",
    "lastEntry"
   ]
  },
  {
   "cell_type": "code",
   "execution_count": 33,
   "id": "f60e7da6",
   "metadata": {},
   "outputs": [],
   "source": [
    "test1 = df[\"time_end\"][-1:].values[0]"
   ]
  },
  {
   "cell_type": "code",
   "execution_count": 34,
   "id": "f639b9c9",
   "metadata": {},
   "outputs": [],
   "source": [
    "test2 = np.datetime64(datetime.now())"
   ]
  },
  {
   "cell_type": "code",
   "execution_count": 35,
   "id": "e4880b74",
   "metadata": {},
   "outputs": [
    {
     "name": "stdout",
     "output_type": "stream",
     "text": [
      "2022-01-02T22:50:00.000000000 2022-01-02T22:47:51.268266\n",
      "True\n",
      "True\n"
     ]
    }
   ],
   "source": [
    "print(test1, test2)\n",
    "print(test2 < test1)\n",
    "print(test2 > (test1 - np.timedelta64(5,\"m\")))"
   ]
  },
  {
   "cell_type": "code",
   "execution_count": 36,
   "id": "48509f08",
   "metadata": {},
   "outputs": [],
   "source": [
    "import krakenex\n",
    "k = krakenex.API()"
   ]
  },
  {
   "cell_type": "code",
   "execution_count": 37,
   "id": "64186f3e",
   "metadata": {},
   "outputs": [
    {
     "data": {
      "text/plain": [
       "{'error': [],\n",
       " 'result': {'unixtime': 1641160075,\n",
       "  'rfc1123': 'Sun,  2 Jan 22 21:47:55 +0000'}}"
      ]
     },
     "execution_count": 37,
     "metadata": {},
     "output_type": "execute_result"
    }
   ],
   "source": [
    "k.query_public(\"Time\")"
   ]
  },
  {
   "cell_type": "code",
   "execution_count": 38,
   "id": "f8bcc6ff",
   "metadata": {},
   "outputs": [],
   "source": [
    "k.load_key(r'C:\\Users\\NickK\\git\\KryptoTrading\\kraken.key')"
   ]
  },
  {
   "cell_type": "code",
   "execution_count": 46,
   "id": "c3fd996b",
   "metadata": {},
   "outputs": [
    {
     "data": {
      "text/plain": [
       "149.2771"
      ]
     },
     "execution_count": 46,
     "metadata": {},
     "output_type": "execute_result"
    }
   ],
   "source": [
    "balance = k.query_private(\"Balance\")\n",
    "float(balance['result']['ZEUR'])"
   ]
  },
  {
   "cell_type": "code",
   "execution_count": 48,
   "id": "62ec3a2a",
   "metadata": {},
   "outputs": [
    {
     "data": {
      "text/plain": [
       "{'error': [],\n",
       " 'result': {'count': 2,\n",
       "  'trades': {'TG2DGL-4NMB3-IYOCUH': {'ordertxid': 'OIZVQ2-UZWDH-E5ATLL',\n",
       "    'postxid': 'TKH2SE-M7IF5-CFI7LT',\n",
       "    'pair': 'XETHZEUR',\n",
       "    'time': 1641161174.883178,\n",
       "    'type': 'sell',\n",
       "    'ordertype': 'market',\n",
       "    'price': '3359.24000',\n",
       "    'cost': '134.97910',\n",
       "    'fee': '0.35095',\n",
       "    'vol': '0.04018144',\n",
       "    'margin': '0.00000',\n",
       "    'misc': ''},\n",
       "   'TJWI3H-AWQEF-IRAWW3': {'ordertxid': 'OZKVL6-SYWP5-AESBPO',\n",
       "    'postxid': 'TKH2SE-M7IF5-CFI7LT',\n",
       "    'pair': 'XETHZEUR',\n",
       "    'time': 1641160089.8840225,\n",
       "    'type': 'buy',\n",
       "    'ordertype': 'market',\n",
       "    'price': '3359.76000',\n",
       "    'cost': '134.99999',\n",
       "    'fee': '0.35100',\n",
       "    'vol': '0.04018144',\n",
       "    'margin': '0.00000',\n",
       "    'misc': ''}}}}"
      ]
     },
     "execution_count": 48,
     "metadata": {},
     "output_type": "execute_result"
    }
   ],
   "source": [
    "k.query_private(\"TradesHistory\")"
   ]
  },
  {
   "cell_type": "code",
   "execution_count": 47,
   "id": "8233ef70",
   "metadata": {},
   "outputs": [
    {
     "data": {
      "text/plain": [
       "0.04220933786937161"
      ]
     },
     "execution_count": 47,
     "metadata": {},
     "output_type": "execute_result"
    }
   ],
   "source": [
    "balance = float(balance['result']['ZEUR'])\n",
    "ETHval = lastEntry['close'].values[0]\n",
    "tradeVol = 0.95*(balance/ETHval)\n",
    "tradeVol"
   ]
  },
  {
   "cell_type": "code",
   "execution_count": 42,
   "id": "fecf9b09",
   "metadata": {},
   "outputs": [
    {
     "data": {
      "text/plain": [
       "{'error': [],\n",
       " 'result': {'txid': ['OZKVL6-SYWP5-AESBPO'],\n",
       "  'descr': {'order': 'buy 0.04018144 ETHEUR @ market'}}}"
      ]
     },
     "execution_count": 42,
     "metadata": {},
     "output_type": "execute_result"
    }
   ],
   "source": [
    "k.query_private('AddOrder',\n",
    "                        {'pair': 'ETHEUR',\n",
    "                         'type': 'buy',\n",
    "                         'ordertype': 'market',\n",
    "                         'volume': tradeVol,\n",
    "                         })"
   ]
  },
  {
   "cell_type": "code",
   "execution_count": 43,
   "id": "3d6655b5",
   "metadata": {},
   "outputs": [
    {
     "data": {
      "text/plain": [
       "{'error': [],\n",
       " 'result': {'txid': ['OIZVQ2-UZWDH-E5ATLL'],\n",
       "  'descr': {'order': 'sell 0.04018144 ETHEUR @ market'}}}"
      ]
     },
     "execution_count": 43,
     "metadata": {},
     "output_type": "execute_result"
    }
   ],
   "source": [
    "k.query_private('AddOrder',\n",
    "                        {'pair': 'ETHEUR',\n",
    "                         'type': 'sell',\n",
    "                         'ordertype': 'market',\n",
    "                         'volume': tradeVol,\n",
    "                         })"
   ]
  },
  {
   "cell_type": "code",
   "execution_count": 28,
   "id": "3bc652a9",
   "metadata": {},
   "outputs": [
    {
     "data": {
      "text/plain": [
       "{'error': [], 'result': {'count': 0}}"
      ]
     },
     "execution_count": 28,
     "metadata": {},
     "output_type": "execute_result"
    }
   ],
   "source": [
    "k.query_private('CancelAll')"
   ]
  },
  {
   "cell_type": "code",
   "execution_count": 35,
   "id": "ac8e7203",
   "metadata": {},
   "outputs": [
    {
     "data": {
      "text/plain": [
       "{'error': [],\n",
       " 'result': [{'method': 'Ether (Hex)', 'limit': False, 'gen-address': True},\n",
       "  {'method': 'Ethereum (ERC20)', 'limit': False, 'gen-address': True}]}"
      ]
     },
     "execution_count": 35,
     "metadata": {},
     "output_type": "execute_result"
    }
   ],
   "source": [
    "k.query_private('DepositMethods',\n",
    "                   {'asset': 'ETH'})"
   ]
  },
  {
   "cell_type": "code",
   "execution_count": 42,
   "id": "08835dda",
   "metadata": {},
   "outputs": [
    {
     "data": {
      "text/plain": [
       "{'error': [],\n",
       " 'result': [{'address': '0x282ee2e5f75c030f92d41cfed81bce3cc4a33e19',\n",
       "   'expiretm': '0',\n",
       "   'new': True}]}"
      ]
     },
     "execution_count": 42,
     "metadata": {},
     "output_type": "execute_result"
    }
   ],
   "source": [
    "k.query_private('DepositAddresses',\n",
    "                   {'asset': 'ETH',\n",
    "                    'method':'Ethereum (ERC20)'})"
   ]
  }
 ],
 "metadata": {
  "kernelspec": {
   "display_name": "Python 3 (ipykernel)",
   "language": "python",
   "name": "python3"
  },
  "language_info": {
   "codemirror_mode": {
    "name": "ipython",
    "version": 3
   },
   "file_extension": ".py",
   "mimetype": "text/x-python",
   "name": "python",
   "nbconvert_exporter": "python",
   "pygments_lexer": "ipython3",
   "version": "3.7.11"
  }
 },
 "nbformat": 4,
 "nbformat_minor": 5
}
